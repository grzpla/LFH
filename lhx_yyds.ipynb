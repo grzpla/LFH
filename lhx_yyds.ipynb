{
  "nbformat": 4,
  "nbformat_minor": 0,
  "metadata": {
    "colab": {
      "name": "lhx-yyds.ipynb",
      "provenance": [],
      "collapsed_sections": [],
      "toc_visible": true,
      "authorship_tag": "ABX9TyMDbz3dEkvv0Op21j0xMftd",
      "include_colab_link": true
    },
    "kernelspec": {
      "name": "python3",
      "display_name": "Python 3"
    },
    "language_info": {
      "name": "python"
    }
  },
  "cells": [
    {
      "cell_type": "markdown",
      "metadata": {
        "id": "view-in-github",
        "colab_type": "text"
      },
      "source": [
        "<a href=\"https://colab.research.google.com/github/grzpla/LFH/blob/main/lhx_yyds.ipynb\" target=\"_parent\"><img src=\"https://colab.research.google.com/assets/colab-badge.svg\" alt=\"Open In Colab\"/></a>"
      ]
    },
    {
      "cell_type": "code",
      "metadata": {
        "id": "gV5A1zx2W7TJ"
      },
      "source": [
        "import torch\n",
        "import torch.nn as nn\n",
        "\n",
        "import numpy as np\n",
        "import pandas as pd\n",
        "\n",
        "from torch.utils.data import Dataset"
      ],
      "execution_count": null,
      "outputs": []
    },
    {
      "cell_type": "markdown",
      "metadata": {
        "id": "zuLc9vTpa5zl"
      },
      "source": [
        "# Model Definition"
      ]
    },
    {
      "cell_type": "code",
      "metadata": {
        "id": "BIQUrHMJXJW3"
      },
      "source": [
        "class LFHNet(nn.Module):\n",
        "  def __init__(self, input_channel):\n",
        "    super(LFHNet, self).__init__()\n",
        "\n",
        "    self.input_channel = input_channel\n",
        "    self.layer1 = nn.Sequential(\n",
        "        nn.Linear(in_features=self.input_channel, out_features=10),\n",
        "        nn.ReLU(inplace=True),\n",
        "        nn.Dropout(0.2)\n",
        "    )\n",
        "    self.layer2 = nn.Sequential(\n",
        "        nn.Linear(in_features=10, out_features=15),\n",
        "        nn.ReLU(inplace=True)\n",
        "    )\n",
        "    self.layer3 = nn.Sequential(\n",
        "        nn.Linear(in_features=15, out_features=1)\n",
        "    )\n",
        "\n",
        "  def forward(self, x):\n",
        "    x = self.layer1(x)\n",
        "    x = self.layer2(x)\n",
        "    out = self.layer3(x)\n",
        "\n",
        "    return out\n",
        "\n",
        "\n"
      ],
      "execution_count": 8,
      "outputs": []
    },
    {
      "cell_type": "markdown",
      "metadata": {
        "id": "_MABsiaBbCEF"
      },
      "source": [
        "# DataPreprocessing、DataSets、DataLoader"
      ]
    },
    {
      "cell_type": "code",
      "metadata": {
        "id": "CpBNkmyveHtb"
      },
      "source": [
        "def proprecessing(path):\n",
        "  data = []\n",
        "    for index in range(1, 5):\n",
        "      sheet_data = pd.read_excel(self.path, sheet_name=index)\n",
        "      sheet_data = sheet_data.drop('编号',axis = 1)\n",
        "      for i in range(1, 251):\n",
        "        data.append(data.sample(n=50))\n",
        "  "
      ],
      "execution_count": null,
      "outputs": []
    },
    {
      "cell_type": "code",
      "metadata": {
        "id": "kClEMRtZbmLV"
      },
      "source": [
        "def ELMDataset(Dataset):\n",
        "  def __init__(self, path='./ELM.xlsx'):\n",
        "    self.path = path\n",
        "\n",
        "  def _load_data(self, path):\n",
        "    data = []\n",
        "    for index in range(1, 5):\n",
        "      sheet_data = pd.read_excel(self.path, sheet_name=index)\n",
        "      sheet_data = sheet_data.drop('编号',axis = 1)\n",
        "      for i in range(1, 251):\n",
        "        data.append(data.sample(n=50))\n",
        "\n",
        "\n",
        "\n",
        "  def __len__(self):\n",
        "    pass\n",
        "  \n",
        "  def __getitem__(self, index):\n",
        "    pass"
      ],
      "execution_count": null,
      "outputs": []
    },
    {
      "cell_type": "code",
      "metadata": {
        "colab": {
          "base_uri": "https://localhost:8080/",
          "height": 419
        },
        "id": "bEwa6hjbccEc",
        "outputId": "fa300a09-603a-408e-b3fd-3a1a0e0ab488"
      },
      "source": [
        "pd.read_excel('./ELM.xlsx')"
      ],
      "execution_count": null,
      "outputs": [
        {
          "output_type": "execute_result",
          "data": {
            "text/html": [
              "<div>\n",
              "<style scoped>\n",
              "    .dataframe tbody tr th:only-of-type {\n",
              "        vertical-align: middle;\n",
              "    }\n",
              "\n",
              "    .dataframe tbody tr th {\n",
              "        vertical-align: top;\n",
              "    }\n",
              "\n",
              "    .dataframe thead th {\n",
              "        text-align: right;\n",
              "    }\n",
              "</style>\n",
              "<table border=\"1\" class=\"dataframe\">\n",
              "  <thead>\n",
              "    <tr style=\"text-align: right;\">\n",
              "      <th></th>\n",
              "      <th>体重指数</th>\n",
              "      <th>移植肝重/体重</th>\n",
              "      <th>供者[AA=0/AG=0/GG=1]</th>\n",
              "      <th>受者[AA=0/AG=0/GG=1]</th>\n",
              "      <th>血红蛋白</th>\n",
              "      <th>白蛋白</th>\n",
              "      <th>尿素氮</th>\n",
              "      <th>浓度剂量比</th>\n",
              "    </tr>\n",
              "  </thead>\n",
              "  <tbody>\n",
              "    <tr>\n",
              "      <th>0</th>\n",
              "      <td>17.746914</td>\n",
              "      <td>30.434783</td>\n",
              "      <td>1</td>\n",
              "      <td>1</td>\n",
              "      <td>104.0</td>\n",
              "      <td>35.3</td>\n",
              "      <td>4.52</td>\n",
              "      <td>246.560000</td>\n",
              "    </tr>\n",
              "    <tr>\n",
              "      <th>1</th>\n",
              "      <td>15.593673</td>\n",
              "      <td>31.428571</td>\n",
              "      <td>1</td>\n",
              "      <td>1</td>\n",
              "      <td>111.0</td>\n",
              "      <td>42.6</td>\n",
              "      <td>9.89</td>\n",
              "      <td>151.200000</td>\n",
              "    </tr>\n",
              "    <tr>\n",
              "      <th>2</th>\n",
              "      <td>15.593673</td>\n",
              "      <td>31.428571</td>\n",
              "      <td>1</td>\n",
              "      <td>1</td>\n",
              "      <td>103.0</td>\n",
              "      <td>43.4</td>\n",
              "      <td>9.94</td>\n",
              "      <td>140.000000</td>\n",
              "    </tr>\n",
              "    <tr>\n",
              "      <th>3</th>\n",
              "      <td>15.608741</td>\n",
              "      <td>42.000000</td>\n",
              "      <td>0</td>\n",
              "      <td>0</td>\n",
              "      <td>115.0</td>\n",
              "      <td>43.6</td>\n",
              "      <td>4.07</td>\n",
              "      <td>177.600000</td>\n",
              "    </tr>\n",
              "    <tr>\n",
              "      <th>4</th>\n",
              "      <td>12.597632</td>\n",
              "      <td>48.000000</td>\n",
              "      <td>1</td>\n",
              "      <td>1</td>\n",
              "      <td>113.0</td>\n",
              "      <td>38.7</td>\n",
              "      <td>5.46</td>\n",
              "      <td>76.000000</td>\n",
              "    </tr>\n",
              "    <tr>\n",
              "      <th>...</th>\n",
              "      <td>...</td>\n",
              "      <td>...</td>\n",
              "      <td>...</td>\n",
              "      <td>...</td>\n",
              "      <td>...</td>\n",
              "      <td>...</td>\n",
              "      <td>...</td>\n",
              "      <td>...</td>\n",
              "    </tr>\n",
              "    <tr>\n",
              "      <th>1668</th>\n",
              "      <td>16.666667</td>\n",
              "      <td>42.666667</td>\n",
              "      <td>0</td>\n",
              "      <td>0</td>\n",
              "      <td>110.0</td>\n",
              "      <td>42.9</td>\n",
              "      <td>4.23</td>\n",
              "      <td>10.800000</td>\n",
              "    </tr>\n",
              "    <tr>\n",
              "      <th>1669</th>\n",
              "      <td>14.878000</td>\n",
              "      <td>29.200000</td>\n",
              "      <td>0</td>\n",
              "      <td>0</td>\n",
              "      <td>75.0</td>\n",
              "      <td>39.9</td>\n",
              "      <td>2.38</td>\n",
              "      <td>28.928571</td>\n",
              "    </tr>\n",
              "    <tr>\n",
              "      <th>1670</th>\n",
              "      <td>33.593120</td>\n",
              "      <td>21.600000</td>\n",
              "      <td>0</td>\n",
              "      <td>0</td>\n",
              "      <td>104.0</td>\n",
              "      <td>42.6</td>\n",
              "      <td>4.52</td>\n",
              "      <td>18.214286</td>\n",
              "    </tr>\n",
              "    <tr>\n",
              "      <th>1671</th>\n",
              "      <td>38.968019</td>\n",
              "      <td>18.620690</td>\n",
              "      <td>0</td>\n",
              "      <td>0</td>\n",
              "      <td>110.0</td>\n",
              "      <td>46.3</td>\n",
              "      <td>3.60</td>\n",
              "      <td>26.514286</td>\n",
              "    </tr>\n",
              "    <tr>\n",
              "      <th>1672</th>\n",
              "      <td>44.342919</td>\n",
              "      <td>16.363636</td>\n",
              "      <td>0</td>\n",
              "      <td>0</td>\n",
              "      <td>104.0</td>\n",
              "      <td>45.2</td>\n",
              "      <td>4.00</td>\n",
              "      <td>33.000000</td>\n",
              "    </tr>\n",
              "  </tbody>\n",
              "</table>\n",
              "<p>1673 rows × 8 columns</p>\n",
              "</div>"
            ],
            "text/plain": [
              "           体重指数    移植肝重/体重  供者[AA=0/AG=0/GG=1]  ...   白蛋白   尿素氮       浓度剂量比\n",
              "0     17.746914  30.434783                   1  ...  35.3  4.52  246.560000\n",
              "1     15.593673  31.428571                   1  ...  42.6  9.89  151.200000\n",
              "2     15.593673  31.428571                   1  ...  43.4  9.94  140.000000\n",
              "3     15.608741  42.000000                   0  ...  43.6  4.07  177.600000\n",
              "4     12.597632  48.000000                   1  ...  38.7  5.46   76.000000\n",
              "...         ...        ...                 ...  ...   ...   ...         ...\n",
              "1668  16.666667  42.666667                   0  ...  42.9  4.23   10.800000\n",
              "1669  14.878000  29.200000                   0  ...  39.9  2.38   28.928571\n",
              "1670  33.593120  21.600000                   0  ...  42.6  4.52   18.214286\n",
              "1671  38.968019  18.620690                   0  ...  46.3  3.60   26.514286\n",
              "1672  44.342919  16.363636                   0  ...  45.2  4.00   33.000000\n",
              "\n",
              "[1673 rows x 8 columns]"
            ]
          },
          "metadata": {
            "tags": []
          },
          "execution_count": 7
        }
      ]
    },
    {
      "cell_type": "code",
      "metadata": {
        "id": "842Z4ddMchE2"
      },
      "source": [
        ""
      ],
      "execution_count": null,
      "outputs": []
    }
  ]
}